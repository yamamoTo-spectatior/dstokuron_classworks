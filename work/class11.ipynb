{
 "cells": [
  {
   "cell_type": "markdown",
   "id": "13ad92ca-5d61-455f-825d-cf58d5008e3b",
   "metadata": {},
   "source": [
    "# 交差検証"
   ]
  },
  {
   "cell_type": "code",
   "execution_count": 1,
   "id": "9829c526-6f9c-44c0-81dd-5f8e601a261e",
   "metadata": {},
   "outputs": [],
   "source": [
    "from sklearn.datasets import load_iris\n",
    "from sklearn.model_selection import train_test_split\n",
    "from sklearn.linear_model import LogisticRegression"
   ]
  },
  {
   "cell_type": "code",
   "execution_count": 2,
   "id": "050fefea-6b39-4a06-bfd2-1c8bf49544db",
   "metadata": {},
   "outputs": [],
   "source": [
    "# データのロード\n",
    "iris = load_iris()"
   ]
  },
  {
   "cell_type": "markdown",
   "id": "1239ab8e-0626-480f-8949-ee74b40869d7",
   "metadata": {},
   "source": [
    "## 学習、テストの分離"
   ]
  },
  {
   "cell_type": "code",
   "execution_count": 3,
   "id": "feafd2ad-154c-4606-a858-f52e329bee9c",
   "metadata": {},
   "outputs": [],
   "source": [
    "# データの分割\n",
    "X_train, X_test, y_train, y_test = train_test_split(iris.data, iris.target, random_state=0)"
   ]
  },
  {
   "cell_type": "code",
   "execution_count": 8,
   "id": "c52c9d9b-34a2-4dbc-b894-d4d82dc3a0cc",
   "metadata": {},
   "outputs": [
    {
     "name": "stdout",
     "output_type": "stream",
     "text": [
      "Test set score: 0.9736842105263158\n"
     ]
    }
   ],
   "source": [
    "# training set を用いて学習\n",
    "logreg = LogisticRegression(max_iter=10**6).fit(X_train, y_train)\n",
    "\n",
    "# test set を用いて評価\n",
    "score = logreg.score(X_test, y_test)\n",
    "print('Test set score: {}'.format(score))"
   ]
  },
  {
   "cell_type": "markdown",
   "id": "bcd35eb3-1e87-475e-a6ef-48cadc39def3",
   "metadata": {},
   "source": [
    "## 交差検証"
   ]
  },
  {
   "cell_type": "code",
   "execution_count": 9,
   "id": "425a2621-e471-44c8-82c8-87eef6032b54",
   "metadata": {},
   "outputs": [
    {
     "name": "stdout",
     "output_type": "stream",
     "text": [
      "Cross-Validation scores: [1.         0.93333333 1.         1.         0.93333333 0.93333333\n",
      " 0.93333333 1.         1.         1.        ]\n",
      "Average score: 0.9733333333333334\n"
     ]
    }
   ],
   "source": [
    "from sklearn.model_selection import cross_val_score\n",
    "logreg = LogisticRegression(max_iter=10**6)\n",
    "# 交差検証\n",
    "scores = cross_val_score(logreg, iris.data, iris.target, cv=10)\n",
    "# 各分割におけるスコア\n",
    "print('Cross-Validation scores: {}'.format(scores))\n",
    "# スコアの平均値\n",
    "import numpy as np\n",
    "print('Average score: {}'.format(np.mean(scores)))"
   ]
  },
  {
   "cell_type": "markdown",
   "id": "5b619e5f-686c-4a83-96fc-8968551dc68b",
   "metadata": {},
   "source": [
    "# 正則化"
   ]
  },
  {
   "cell_type": "markdown",
   "id": "88e97e97-f470-44c5-bed7-fe8fdc12f636",
   "metadata": {},
   "source": [
    "## リッジ回帰、ラッソ回帰"
   ]
  },
  {
   "cell_type": "code",
   "execution_count": 17,
   "id": "493cf77c-1f12-4889-82c7-1e11369e2a90",
   "metadata": {},
   "outputs": [],
   "source": [
    "from sklearn.linear_model import Ridge\n",
    "from sklearn.linear_model import Lasso"
   ]
  },
  {
   "cell_type": "code",
   "execution_count": 13,
   "id": "6230aaa7-3742-48f3-9143-4fe9a16ab4b7",
   "metadata": {},
   "outputs": [],
   "source": [
    "l2reg = Ridge(alpha=1, max_iter=10**6).fit(X_train, y_train)"
   ]
  },
  {
   "cell_type": "code",
   "execution_count": 22,
   "id": "28c3b48d-b2d7-4d62-8310-9231a7aebe87",
   "metadata": {},
   "outputs": [],
   "source": [
    "score = l2reg.score(X_test, y_test)"
   ]
  },
  {
   "cell_type": "code",
   "execution_count": 23,
   "id": "12569664-8958-481d-85bd-e0409762b7af",
   "metadata": {},
   "outputs": [
    {
     "data": {
      "text/plain": [
       "0.887698220074392"
      ]
     },
     "execution_count": 23,
     "metadata": {},
     "output_type": "execute_result"
    }
   ],
   "source": [
    "score"
   ]
  },
  {
   "cell_type": "code",
   "execution_count": 18,
   "id": "e0f01cd3-8638-43cb-a6ec-1996931d9042",
   "metadata": {},
   "outputs": [],
   "source": [
    "l1reg = Lasso(alpha=1, max_iter=10**6).fit(X_train, y_train)"
   ]
  },
  {
   "cell_type": "code",
   "execution_count": 24,
   "id": "cabe7e22-5cbf-4e06-8530-50dbb7b78222",
   "metadata": {},
   "outputs": [],
   "source": [
    "score = l1reg.score(X_test, y_test)"
   ]
  },
  {
   "cell_type": "code",
   "execution_count": 25,
   "id": "2031d9f9-21a2-48a2-a309-d09fc67ab719",
   "metadata": {},
   "outputs": [
    {
     "data": {
      "text/plain": [
       "0.4317306340391167"
      ]
     },
     "execution_count": 25,
     "metadata": {},
     "output_type": "execute_result"
    }
   ],
   "source": [
    "score"
   ]
  },
  {
   "cell_type": "code",
   "execution_count": 15,
   "id": "2cd27b30-6e3c-4f40-9d24-4356b75b2015",
   "metadata": {},
   "outputs": [
    {
     "data": {
      "text/plain": [
       "array([-0.14682462, -0.02193652,  0.29861379,  0.49062793])"
      ]
     },
     "execution_count": 15,
     "metadata": {},
     "output_type": "execute_result"
    }
   ],
   "source": [
    "l2reg.coef_"
   ]
  },
  {
   "cell_type": "code",
   "execution_count": 19,
   "id": "bae04b05-1f4d-41ab-b882-e36c41127f02",
   "metadata": {},
   "outputs": [
    {
     "data": {
      "text/plain": [
       "array([ 0.        , -0.        ,  0.13312535,  0.        ])"
      ]
     },
     "execution_count": 19,
     "metadata": {},
     "output_type": "execute_result"
    }
   ],
   "source": [
    "l1reg.coef_"
   ]
  },
  {
   "cell_type": "code",
   "execution_count": null,
   "id": "9040b53b-a466-435e-8a10-4ac1b0f29293",
   "metadata": {},
   "outputs": [],
   "source": []
  },
  {
   "cell_type": "code",
   "execution_count": null,
   "id": "e8498ee6-ef4c-4f79-bfc7-4808b0fd81ca",
   "metadata": {},
   "outputs": [],
   "source": []
  },
  {
   "cell_type": "code",
   "execution_count": null,
   "id": "01913ef2-a683-4dff-990b-4bf3bcac5f24",
   "metadata": {},
   "outputs": [],
   "source": []
  }
 ],
 "metadata": {
  "kernelspec": {
   "display_name": "Python 3 (ipykernel)",
   "language": "python",
   "name": "python3"
  },
  "language_info": {
   "codemirror_mode": {
    "name": "ipython",
    "version": 3
   },
   "file_extension": ".py",
   "mimetype": "text/x-python",
   "name": "python",
   "nbconvert_exporter": "python",
   "pygments_lexer": "ipython3",
   "version": "3.11.6"
  }
 },
 "nbformat": 4,
 "nbformat_minor": 5
}
